{
 "cells": [
  {
   "cell_type": "markdown",
   "metadata": {
    "id": "Ff6RhfDHhLXO"
   },
   "source": [
    "<img align=\"left\" src=\"https://lever-client-logos.s3.amazonaws.com/864372b1-534c-480e-acd5-9711f850815c-1524247202159.png\" width=200>\n",
    "<br></br>\n",
    "<br></br>\n",
    "\n",
    "## *Data Science Unit 4 Sprint 3 Assignment 1*\n",
    "\n",
    "# Recurrent Neural Networks and Long Short Term Memory (LSTM)\n",
    "\n",
    "![Monkey at a typewriter](https://upload.wikimedia.org/wikipedia/commons/thumb/3/3c/Chimpanzee_seated_at_typewriter.jpg/603px-Chimpanzee_seated_at_typewriter.jpg)\n",
    "\n",
    "It is said that [infinite monkeys typing for an infinite amount of time](https://en.wikipedia.org/wiki/Infinite_monkey_theorem) will eventually type, among other things, the complete works of Wiliam Shakespeare. Let's see if we can get there a bit faster, with the power of Recurrent Neural Networks and LSTM.\n",
    "\n",
    "This text file contains the complete works of Shakespeare: https://www.gutenberg.org/files/100/100-0.txt\n",
    "\n",
    "Use it as training data for an RNN - you can keep it simple and train character level, and that is suggested as an initial approach.\n",
    "\n",
    "Then, use that trained RNN to generate Shakespearean-ish text. Your goal - a function that can take, as an argument, the size of text (e.g. number of characters or lines) to generate, and returns generated text of that size.\n",
    "\n",
    "Note - Shakespeare wrote an awful lot. It's OK, especially initially, to sample/use smaller data and parameters, so you can have a tighter feedback loop when you're trying to get things running. Then, once you've got a proof of concept - start pushing it more!"
   ]
  },
  {
   "cell_type": "code",
   "execution_count": 1,
   "metadata": {
    "id": "vWdmJrDZhLXO"
   },
   "outputs": [],
   "source": [
    "# Imports\n",
    "from __future__ import print_function\n",
    "\n",
    "import warnings\n",
    "warnings.filterwarnings(\"ignore\", category=FutureWarning)\n",
    "\n",
    "import re\n",
    "import requests\n",
    "import pandas as pd\n",
    "\n",
    "from tensorflow.keras.preprocessing import sequence\n",
    "from tensorflow.keras.models import Sequential\n",
    "from tensorflow.keras.layers import Dense, Embedding, Dropout, SimpleRNN, LSTM\n",
    "\n",
    "import matplotlib.pyplot as plt\n",
    "import seaborn as sns\n",
    "sns.set()"
   ]
  },
  {
   "cell_type": "code",
   "execution_count": 2,
   "metadata": {
    "id": "x4nOpybDhLXO"
   },
   "outputs": [],
   "source": [
    "# The url where the data is held\n",
    "url = \"https://www.gutenberg.org/files/100/100-0.txt\"\n",
    "\n",
    "# Reading in the data and encoding it\n",
    "r = requests.get(url)\n",
    "r.encoding = r.apparent_encoding\n",
    "data = r.text\n",
    "data = data.split('\\r\\n')\n",
    "toc = [l.strip() for l in data[44:130:2]]\n",
    "\n",
    "# Skip the Table of Contents\n",
    "data = data[135:]\n",
    "\n",
    "# Fixing Titles\n",
    "toc[9] = 'THE LIFE OF KING HENRY V'\n",
    "toc[18] = 'MACBETH'\n",
    "toc[24] = 'OTHELLO, THE MOOR OF VENICE'\n",
    "toc[34] = 'TWELFTH NIGHT: OR, WHAT YOU WILL'\n",
    "\n",
    "locations = {id_:{'title':title, 'start':-99} for id_,title in enumerate(toc)}\n",
    "\n",
    "# Start \n",
    "for e,i in enumerate(data):\n",
    "    for t,title in enumerate(toc):\n",
    "        if title in i:\n",
    "            locations[t].update({'start':e})\n",
    "            \n",
    "# Turn into a DataFrame from a dictionary\n",
    "df_toc = pd.DataFrame.from_dict(locations, orient='index')\n",
    "df_toc['end'] = df_toc['start'].shift(-1).apply(lambda x: x-1)\n",
    "df_toc.loc[42, 'end'] = len(data)\n",
    "df_toc['end'] = df_toc['end'].astype('int')\n",
    "\n",
    "df_toc['text'] = df_toc.apply(lambda x: '\\r\\n'.join(data[ x['start'] : int(x['end']) ]), axis=1)"
   ]
  },
  {
   "cell_type": "code",
   "execution_count": 3,
   "metadata": {
    "colab": {
     "base_uri": "https://localhost:8080/",
     "height": 314
    },
    "id": "JWmGxj1GhLXO",
    "nteract": {
     "transient": {
      "deleting": false
     }
    },
    "outputId": "b1df99d9-e5c9-4e1c-d448-62538e20e420"
   },
   "outputs": [
    {
     "name": "stdout",
     "output_type": "stream",
     "text": [
      "(43, 4)\n"
     ]
    },
    {
     "data": {
      "text/plain": "                                      title  start    end  \\\n0       THE TRAGEDY OF ANTONY AND CLEOPATRA    -99  14379   \n1                            AS YOU LIKE IT  14380  17171   \n2                      THE COMEDY OF ERRORS  17172  20372   \n3                 THE TRAGEDY OF CORIOLANUS  20373  30346   \n4                                 CYMBELINE  30347  30364   \n5  THE TRAGEDY OF HAMLET, PRINCE OF DENMARK  30365  37051   \n6   THE FIRST PART OF KING HENRY THE FOURTH  37052  41767   \n7  THE SECOND PART OF KING HENRY THE FOURTH  41768   -100   \n\n                                                text  \n0                                                     \n1  AS YOU LIKE IT\\r\\n\\r\\n\\r\\nDRAMATIS PERSONAE.\\r...  \n2  THE COMEDY OF ERRORS\\r\\n\\r\\n\\r\\n\\r\\nContents\\r...  \n3  THE TRAGEDY OF CORIOLANUS\\r\\n\\r\\nDramatis Pers...  \n4  CYMBELINE.\\r\\nLaud we the gods;\\r\\nAnd let our...  \n5  THE TRAGEDY OF HAMLET, PRINCE OF DENMARK\\r\\n\\r...  \n6  THE FIRST PART OF KING HENRY THE FOURTH\\r\\n\\r\\...  \n7  THE SECOND PART OF KING HENRY THE FOURTH\\r\\n\\r...  ",
      "text/html": "<div>\n<style scoped>\n    .dataframe tbody tr th:only-of-type {\n        vertical-align: middle;\n    }\n\n    .dataframe tbody tr th {\n        vertical-align: top;\n    }\n\n    .dataframe thead th {\n        text-align: right;\n    }\n</style>\n<table border=\"1\" class=\"dataframe\">\n  <thead>\n    <tr style=\"text-align: right;\">\n      <th></th>\n      <th>title</th>\n      <th>start</th>\n      <th>end</th>\n      <th>text</th>\n    </tr>\n  </thead>\n  <tbody>\n    <tr>\n      <th>0</th>\n      <td>THE TRAGEDY OF ANTONY AND CLEOPATRA</td>\n      <td>-99</td>\n      <td>14379</td>\n      <td></td>\n    </tr>\n    <tr>\n      <th>1</th>\n      <td>AS YOU LIKE IT</td>\n      <td>14380</td>\n      <td>17171</td>\n      <td>AS YOU LIKE IT\\r\\n\\r\\n\\r\\nDRAMATIS PERSONAE.\\r...</td>\n    </tr>\n    <tr>\n      <th>2</th>\n      <td>THE COMEDY OF ERRORS</td>\n      <td>17172</td>\n      <td>20372</td>\n      <td>THE COMEDY OF ERRORS\\r\\n\\r\\n\\r\\n\\r\\nContents\\r...</td>\n    </tr>\n    <tr>\n      <th>3</th>\n      <td>THE TRAGEDY OF CORIOLANUS</td>\n      <td>20373</td>\n      <td>30346</td>\n      <td>THE TRAGEDY OF CORIOLANUS\\r\\n\\r\\nDramatis Pers...</td>\n    </tr>\n    <tr>\n      <th>4</th>\n      <td>CYMBELINE</td>\n      <td>30347</td>\n      <td>30364</td>\n      <td>CYMBELINE.\\r\\nLaud we the gods;\\r\\nAnd let our...</td>\n    </tr>\n    <tr>\n      <th>5</th>\n      <td>THE TRAGEDY OF HAMLET, PRINCE OF DENMARK</td>\n      <td>30365</td>\n      <td>37051</td>\n      <td>THE TRAGEDY OF HAMLET, PRINCE OF DENMARK\\r\\n\\r...</td>\n    </tr>\n    <tr>\n      <th>6</th>\n      <td>THE FIRST PART OF KING HENRY THE FOURTH</td>\n      <td>37052</td>\n      <td>41767</td>\n      <td>THE FIRST PART OF KING HENRY THE FOURTH\\r\\n\\r\\...</td>\n    </tr>\n    <tr>\n      <th>7</th>\n      <td>THE SECOND PART OF KING HENRY THE FOURTH</td>\n      <td>41768</td>\n      <td>-100</td>\n      <td>THE SECOND PART OF KING HENRY THE FOURTH\\r\\n\\r...</td>\n    </tr>\n  </tbody>\n</table>\n</div>"
     },
     "execution_count": 3,
     "metadata": {},
     "output_type": "execute_result"
    }
   ],
   "source": [
    "#Shakespeare Data Parsed by Play\n",
    "print(df_toc.shape)\n",
    "df_toc.head(8)"
   ]
  },
  {
   "cell_type": "code",
   "execution_count": 4,
   "metadata": {
    "colab": {
     "base_uri": "https://localhost:8080/",
     "height": 154
    },
    "id": "nbV8OQHa05Oo",
    "outputId": "fb82cf54-1529-4db6-8d00-9d44de533288"
   },
   "outputs": [
    {
     "data": {
      "text/plain": "'THE TRAGEDY OF HAMLET, PRINCE OF DENMARK    Contents  ACT I Scene I. Elsinore. A platform before the Castle. Scene II. Elsinore. A room of state in the Castle Scene III. A room in Polonius’s house. Scene IV. The platform. Scene V. A more remote part '"
     },
     "execution_count": 4,
     "metadata": {},
     "output_type": "execute_result"
    }
   ],
   "source": [
    "# Clean the text\n",
    "df_toc['text'] = [i.replace('\\r\\n', ' ') for i in df_toc['text']]\n",
    "df_toc['text'] = [i.replace('[', ' ') for i in df_toc['text']]\n",
    "df_toc['text'] = [i.replace(']', ' ') for i in df_toc['text']]\n",
    "df_toc['text'] = [i.replace('-', ' ') for i in df_toc['text']]\n",
    "df_toc['text'] = [i.replace('_', ' ') for i in df_toc['text']]\n",
    "df_toc['text'] = [i.replace('—', ' ') for i in df_toc['text']]\n",
    "df_toc['text'] = [i.replace('|', ' ') for i in df_toc['text']]\n",
    "df_toc['text'] = [i.replace('`', ' ') for i in df_toc['text']]\n",
    "df_toc['text'] = [i.replace('}', ' ') for i in df_toc['text']]\n",
    "df_toc['text'] = [i.replace('{', ' ') for i in df_toc['text']]\n",
    "df_toc['text'] = [i.replace('(', ' ') for i in df_toc['text']]\n",
    "df_toc['text'] = [i.replace(')', ' ') for i in df_toc['text']]\n",
    "df_toc['text'] = [i.replace('\\\\', ' ') for i in df_toc['text']]\n",
    "df_toc['text'] = [i.replace('*', ' ') for i in df_toc['text']]\n",
    "df_toc['text'] = [i.replace('/', ' ') for i in df_toc['text']]\n",
    "df_toc['text'] = [i.replace('%', ' ') for i in df_toc['text']]\n",
    "df_toc['text'] = [i.replace('Æ', ' ') for i in df_toc['text']]\n",
    "df_toc['text'] = [i.replace('æ', ' ') for i in df_toc['text']]\n",
    "df_toc['text'] = [i.replace('$', ' ') for i in df_toc['text']]\n",
    "df_toc['text'] = [i.replace('œ', ' ') for i in df_toc['text']]\n",
    "df_toc['text'] = [i.replace(':', ' ') for i in df_toc['text']]\n",
    "df_toc['text'] = [i.replace(';', ' ') for i in df_toc['text']]\n",
    "df_toc['text'] = [i.replace('@', ' ') for i in df_toc['text']]\n",
    "\n",
    "# Look at one of the text values to check work\n",
    "df_toc['text'][5][:250]"
   ]
  },
  {
   "cell_type": "code",
   "execution_count": 5,
   "metadata": {
    "colab": {
     "base_uri": "https://localhost:8080/",
     "height": 154
    },
    "id": "cyk3UW-N05NM",
    "outputId": "ba2d656e-5ac6-4b81-c831-f5810e5438ec"
   },
   "outputs": [
    {
     "data": {
      "text/plain": "'THE TRAGEDY OF HAMLET, PRINCE OF DENMARK Contents ACT I Scene I. Elsinore. A platform before the Castle. Scene II. Elsinore. A room of state in the Castle Scene III. A room in Polonius’s house. Scene IV. The platform. Scene V. A more remote part of t'"
     },
     "execution_count": 5,
     "metadata": {},
     "output_type": "execute_result"
    }
   ],
   "source": [
    "# Remove extra spacing in the text\n",
    "df_toc['text'] = [re.sub('\\s\\s+', ' ', i) for i in df_toc.text]\n",
    "\n",
    "# Look at one of the text values to check work\n",
    "df_toc['text'][5][:250]"
   ]
  },
  {
   "cell_type": "code",
   "execution_count": 6,
   "metadata": {
    "colab": {
     "base_uri": "https://localhost:8080/"
    },
    "id": "rhOOuQyE05K2",
    "outputId": "72c55655-34a0-4c6e-8e7d-1d226b6f20ea"
   },
   "outputs": [
    {
     "name": "stdout",
     "output_type": "stream",
     "text": [
      "My corpus contains 82 unique characters.\n"
     ]
    }
   ],
   "source": [
    "# Character encoding       \n",
    "# Tried/failed `text = [df_toc['text'][i] for i in range(len(df_toc['text']))]`\n",
    "text = ' '.join(df_toc['text'])  # Don't need this, done above\n",
    "chars = list(set(text))\n",
    "\n",
    "char_int = {c:i for i, c in enumerate(chars)}\n",
    "int_char = {i:c for i, c in enumerate(chars)}\n",
    "\n",
    "print(f'My corpus contains {len(chars)} unique characters.')"
   ]
  },
  {
   "cell_type": "code",
   "execution_count": 7,
   "metadata": {
    "colab": {
     "base_uri": "https://localhost:8080/"
    },
    "id": "d9Ub9VYD05Ir",
    "outputId": "da8535e6-b90a-4d3c-8792-5f15da6f4c4f"
   },
   "outputs": [
    {
     "data": {
      "text/plain": "['j',\n 'H',\n 'r',\n '0',\n 'y',\n 'x',\n 'V',\n 'Y',\n '”',\n 'N',\n 'h',\n '5',\n ',',\n 'G',\n 'â',\n 'F',\n 'z',\n '!',\n 's',\n 'É',\n '1',\n 'P',\n 'A',\n 'p',\n 'é',\n '’',\n 'B',\n \"'\",\n 'S',\n 'u',\n 'T',\n 'd',\n 'ç',\n 'g',\n '&',\n '8',\n 'i',\n '.',\n 't',\n 'à',\n 'O',\n 'E',\n 'î',\n 'm',\n 'w',\n 'R',\n 'Q',\n 'b',\n 'q',\n 'è',\n 'n',\n 'U',\n '6',\n 'o',\n 'C',\n '7',\n 'e',\n 'f',\n 'c',\n '3',\n '2',\n '4',\n 'X',\n 'Z',\n '9',\n 'v',\n 'k',\n 'D',\n 'I',\n 'J',\n '“',\n '?',\n '‘',\n 'ê',\n ' ',\n 'L',\n '\"',\n 'l',\n 'W',\n 'M',\n 'a',\n 'K']"
     },
     "execution_count": 7,
     "metadata": {},
     "output_type": "execute_result"
    }
   ],
   "source": [
    "chars"
   ]
  },
  {
   "cell_type": "code",
   "execution_count": 13,
   "metadata": {
    "colab": {
     "base_uri": "https://localhost:8080/"
    },
    "id": "q81qFGmm05GY",
    "outputId": "0bf72dff-8855-4a5c-cdbf-93ea7029b25b"
   },
   "outputs": [
    {
     "name": "stdout",
     "output_type": "stream",
     "text": [
      "Length of sequences: 464548\n"
     ]
    }
   ],
   "source": [
    "# Create the sequence data\n",
    "max_len = 150\n",
    "step = 30\n",
    "\n",
    "# Encode each character\n",
    "encoded = [char_int[c] for c in text]\n",
    "sequences = []  # Each element == max_len\n",
    "next_chars = []  # One element for each sequence\n",
    "\n",
    "for i in range(0, len(encoded) - max_len, step):\n",
    "    sequences.append(encoded[i : i + max_len])\n",
    "    next_chars.append(encoded[i + max_len])\n",
    "\n",
    "# Look at the count of sequences\n",
    "print(f'Length of sequences: {len(sequences)}')"
   ]
  },
  {
   "cell_type": "code",
   "execution_count": 14,
   "metadata": {
    "colab": {
     "base_uri": "https://localhost:8080/",
     "height": 35
    },
    "id": "Sgfx0d7I05ET",
    "outputId": "9e2dde52-8af0-4806-f939-8f8b0831d69d"
   },
   "outputs": [
    {
     "data": {
      "text/plain": "' AS YOU LI'"
     },
     "execution_count": 14,
     "metadata": {},
     "output_type": "execute_result"
    }
   ],
   "source": [
    "# Look at the text\n",
    "text[0:10]"
   ]
  },
  {
   "cell_type": "code",
   "execution_count": 15,
   "metadata": {
    "colab": {
     "base_uri": "https://localhost:8080/"
    },
    "id": "XkJ9xVTV05Bv",
    "outputId": "0f939f1b-b160-4cef-8da5-4a0368ae4632"
   },
   "outputs": [
    {
     "data": {
      "text/plain": "[74,\n 22,\n 28,\n 74,\n 7,\n 40,\n 51,\n 74,\n 75,\n 68,\n 81,\n 41,\n 74,\n 68,\n 30,\n 74,\n 67,\n 45,\n 22,\n 79,\n 22,\n 30,\n 68,\n 28,\n 74,\n 21,\n 41,\n 45,\n 28,\n 40,\n 9,\n 22,\n 41,\n 37,\n 74,\n 67,\n 51,\n 81,\n 41,\n 12,\n 74,\n 77,\n 36,\n 65,\n 36,\n 50,\n 33,\n 74,\n 36,\n 50,\n 74,\n 56,\n 5,\n 36,\n 77,\n 56,\n 74,\n 15,\n 45,\n 41,\n 67,\n 41,\n 45,\n 68,\n 54,\n 81,\n 12,\n 74,\n 10,\n 36,\n 18,\n 74,\n 47,\n 2,\n 53,\n 38,\n 10,\n 56,\n 2,\n 12,\n 74,\n 80,\n 50,\n 31,\n 74,\n 29,\n 18,\n 29,\n 2,\n 23,\n 56,\n 2,\n 74,\n 53,\n 57,\n 74,\n 10,\n 36,\n 18,\n 74,\n 31,\n 53,\n 43,\n 36,\n 50,\n 36,\n 53,\n 50,\n 18,\n 74,\n 22,\n 79,\n 68,\n 41,\n 9,\n 28,\n 12,\n 74,\n 77,\n 53,\n 2,\n 31,\n 74,\n 80,\n 38,\n 38,\n 56,\n 50,\n 31,\n 36,\n 50,\n 33,\n 74,\n 53,\n 50,\n 74,\n 38,\n 10,\n 56,\n 74,\n 47,\n 80,\n 50,\n 36,\n 18,\n 10,\n 56,\n 31,\n 74,\n 67]"
     },
     "execution_count": 15,
     "metadata": {},
     "output_type": "execute_result"
    }
   ],
   "source": [
    "# Look at the sequences\n",
    "sequences[0]"
   ]
  },
  {
   "cell_type": "code",
   "execution_count": 16,
   "metadata": {
    "colab": {
     "base_uri": "https://localhost:8080/"
    },
    "id": "4UR6Qn1_04_n",
    "outputId": "d4b6d706-4d0f-41cd-a285-e2f9508cd6d9"
   },
   "outputs": [
    {
     "data": {
      "text/plain": "29"
     },
     "execution_count": 16,
     "metadata": {},
     "output_type": "execute_result"
    }
   ],
   "source": [
    "# Look at the next chars\n",
    "next_chars[0]"
   ]
  },
  {
   "cell_type": "code",
   "execution_count": 17,
   "metadata": {
    "id": "lyIhNfbm049c"
   },
   "outputs": [
    {
     "name": "stdout",
     "output_type": "stream",
     "text": [
      "(464548, 150, 82) (464548, 82)\n"
     ]
    }
   ],
   "source": [
    "import numpy as np\n",
    "\n",
    "# Specify my x(training data) and y (target)\n",
    "x = np.zeros((len(sequences), max_len, len(chars)), dtype=np.bool)\n",
    "y = np.zeros((len(sequences), len(chars)), dtype=np.bool)\n",
    "\n",
    "for i, sequence in enumerate(sequences):\n",
    "    for t, char in enumerate(sequence):\n",
    "        x[i, t, char] = 1\n",
    "    y[i, next_chars[i]] = 1\n",
    "\n",
    "print(x.shape, y.shape)"
   ]
  },
  {
   "cell_type": "code",
   "execution_count": 18,
   "metadata": {
    "id": "3kccJcpw047N"
   },
   "outputs": [
    {
     "name": "stdout",
     "output_type": "stream",
     "text": [
      "Model: \"sequential\"\n",
      "_________________________________________________________________\n",
      "Layer (type)                 Output Shape              Param #   \n",
      "=================================================================\n",
      "lstm (LSTM)                  (None, 150, 128)          108032    \n",
      "_________________________________________________________________\n",
      "dropout (Dropout)            (None, 150, 128)          0         \n",
      "_________________________________________________________________\n",
      "lstm_1 (LSTM)                (None, 150, 96)           86400     \n",
      "_________________________________________________________________\n",
      "dropout_1 (Dropout)          (None, 150, 96)           0         \n",
      "_________________________________________________________________\n",
      "lstm_2 (LSTM)                (None, 96)                74112     \n",
      "_________________________________________________________________\n",
      "dropout_2 (Dropout)          (None, 96)                0         \n",
      "_________________________________________________________________\n",
      "dense (Dense)                (None, 82)                7954      \n",
      "=================================================================\n",
      "Total params: 276,498\n",
      "Trainable params: 276,498\n",
      "Non-trainable params: 0\n",
      "_________________________________________________________________\n"
     ]
    }
   ],
   "source": [
    "# Build a single LSTM\n",
    "model = Sequential()\n",
    "model.add(LSTM(128, return_sequences=True, input_shape=(max_len, len(chars)),\n",
    "               activation='sigmoid'))\n",
    "model.add(Dropout(0.25))\n",
    "model.add(LSTM(96, return_sequences=True))\n",
    "model.add(Dropout(0.25))\n",
    "model.add(LSTM(96))\n",
    "model.add(Dropout(0.25))\n",
    "model.add(Dense(len(chars), activation='softmax'))\n",
    "\n",
    "# Compile my model\n",
    "model.compile(loss='categorical_crossentropy',\n",
    "              optimizer='nadam',\n",
    "              metrics=['accuracy'])\n",
    "\n",
    "# Look at the summary of my model\n",
    "model.summary()"
   ]
  },
  {
   "cell_type": "code",
   "execution_count": 1,
   "metadata": {
    "id": "SxoaciJy0446"
   },
   "outputs": [
    {
     "ename": "NameError",
     "evalue": "name 'model' is not defined",
     "output_type": "error",
     "traceback": [
      "\u001B[1;31m---------------------------------------------------------------------------\u001B[0m",
      "\u001B[1;31mNameError\u001B[0m                                 Traceback (most recent call last)",
      "\u001B[1;32m<ipython-input-1-d70ba8dee604>\u001B[0m in \u001B[0;36m<module>\u001B[1;34m\u001B[0m\n\u001B[0;32m      1\u001B[0m \u001B[1;31m# Fit my model\u001B[0m\u001B[1;33m\u001B[0m\u001B[1;33m\u001B[0m\u001B[1;33m\u001B[0m\u001B[0m\n\u001B[1;32m----> 2\u001B[1;33m model.fit(x, y,\n\u001B[0m\u001B[0;32m      3\u001B[0m           \u001B[0mbatch_size\u001B[0m\u001B[1;33m=\u001B[0m\u001B[1;36m64\u001B[0m\u001B[1;33m,\u001B[0m\u001B[1;33m\u001B[0m\u001B[1;33m\u001B[0m\u001B[0m\n\u001B[0;32m      4\u001B[0m           epochs=10)\n\u001B[0;32m      5\u001B[0m \u001B[1;33m\u001B[0m\u001B[0m\n",
      "\u001B[1;31mNameError\u001B[0m: name 'model' is not defined"
     ]
    }
   ],
   "source": [
    "# Fit my model\n",
    "model.fit(x, y,\n",
    "          batch_size=64,\n",
    "          epochs=10)"
   ]
  },
  {
   "cell_type": "code",
   "execution_count": null,
   "metadata": {
    "id": "7vr67X8g042f"
   },
   "outputs": [],
   "source": []
  },
  {
   "cell_type": "code",
   "execution_count": null,
   "metadata": {
    "id": "cpmvnwsZ040W"
   },
   "outputs": [],
   "source": []
  },
  {
   "cell_type": "code",
   "execution_count": null,
   "metadata": {
    "id": "EFCKZZQU04yC"
   },
   "outputs": [],
   "source": []
  },
  {
   "cell_type": "code",
   "execution_count": null,
   "metadata": {
    "id": "guTO14-Z04v-"
   },
   "outputs": [],
   "source": []
  },
  {
   "cell_type": "code",
   "execution_count": null,
   "metadata": {
    "id": "TyRf07LL04tv"
   },
   "outputs": [],
   "source": []
  },
  {
   "cell_type": "code",
   "execution_count": null,
   "metadata": {
    "id": "po-Lt3GG04re"
   },
   "outputs": [],
   "source": []
  },
  {
   "cell_type": "code",
   "execution_count": null,
   "metadata": {
    "id": "55w2BTVT04mh"
   },
   "outputs": [],
   "source": []
  },
  {
   "cell_type": "code",
   "execution_count": null,
   "metadata": {
    "id": "gRsP6RPQ04kE"
   },
   "outputs": [],
   "source": []
  },
  {
   "cell_type": "code",
   "execution_count": null,
   "metadata": {
    "id": "-TdXv5B104hs"
   },
   "outputs": [],
   "source": []
  },
  {
   "cell_type": "code",
   "execution_count": null,
   "metadata": {
    "id": "1G6UMVxc04fT"
   },
   "outputs": [],
   "source": []
  },
  {
   "cell_type": "code",
   "execution_count": null,
   "metadata": {
    "id": "iiGT6zj004cr"
   },
   "outputs": [],
   "source": []
  },
  {
   "cell_type": "code",
   "execution_count": null,
   "metadata": {
    "id": "yIszFeQH04aX"
   },
   "outputs": [],
   "source": []
  },
  {
   "cell_type": "markdown",
   "metadata": {
    "id": "zE4a4O7Bp5x1"
   },
   "source": [
    "# Resources and Stretch Goals"
   ]
  },
  {
   "cell_type": "markdown",
   "metadata": {
    "id": "uT3UV3gap9H6"
   },
   "source": [
    "## Stretch goals:\n",
    "- Refine the training and generation of text to be able to ask for different genres/styles of Shakespearean text (e.g. plays versus sonnets)\n",
    "- Train a classification model that takes text and returns which work of Shakespeare it is most likely to be from\n",
    "- Make it more performant! Many possible routes here - lean on Keras, optimize the code, and/or use more resources (AWS, etc.)\n",
    "- Revisit the news example from class, and improve it - use categories or tags to refine the model/generation, or train a news classifier\n",
    "- Run on bigger, better data\n",
    "\n",
    "## Resources:\n",
    "- [The Unreasonable Effectiveness of Recurrent Neural Networks](https://karpathy.github.io/2015/05/21/rnn-effectiveness/) - a seminal writeup demonstrating a simple but effective character-level NLP RNN\n",
    "- [Simple NumPy implementation of RNN](https://github.com/JY-Yoon/RNN-Implementation-using-NumPy/blob/master/RNN%20Implementation%20using%20NumPy.ipynb) - Python 3 version of the code from \"Unreasonable Effectiveness\"\n",
    "- [TensorFlow RNN Tutorial](https://github.com/tensorflow/models/tree/master/tutorials/rnn) - code for training a RNN on the Penn Tree Bank language dataset\n",
    "- [4 part tutorial on RNN](http://www.wildml.com/2015/09/recurrent-neural-networks-tutorial-part-1-introduction-to-rnns/) - relates RNN to the vanishing gradient problem, and provides example implementation\n",
    "- [RNN training tips and tricks](https://github.com/karpathy/char-rnn#tips-and-tricks) - some rules of thumb for parameterizing and training your RNN"
   ]
  }
 ],
 "metadata": {
  "accelerator": "TPU",
  "colab": {
   "collapsed_sections": [],
   "name": "Copy of LS_DS_431_RNN_and_LSTM_Assignment.ipynb",
   "provenance": []
  },
  "kernelspec": {
   "display_name": "Python 3",
   "language": "python",
   "name": "python3"
  },
  "language_info": {
   "codemirror_mode": {
    "name": "ipython",
    "version": 3
   },
   "file_extension": ".py",
   "mimetype": "text/x-python",
   "name": "python",
   "nbconvert_exporter": "python",
   "pygments_lexer": "ipython3",
   "version": "3.8.3"
  },
  "nteract": {
   "version": "0.23.3"
  }
 },
 "nbformat": 4,
 "nbformat_minor": 4
}